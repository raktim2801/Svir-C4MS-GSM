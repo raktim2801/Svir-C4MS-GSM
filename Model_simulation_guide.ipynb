{
 "cells": [
  {
   "cell_type": "markdown",
   "id": "d48dfec8",
   "metadata": {},
   "source": [
    "### Use $\\color{blue}{\\text{python 2.7}}$ for this guide"
   ]
  },
  {
   "cell_type": "markdown",
   "id": "83140e2b",
   "metadata": {},
   "source": [
    "##### Use the SCOBRA module\n",
    "Scobra has dependencies of cobra, pandas, matplotlib, numpy, scipy, lxml, xlwt, xlrd"
   ]
  },
  {
   "cell_type": "markdown",
   "id": "6e516ea8",
   "metadata": {},
   "source": [
    "##### Import Modules"
   ]
  },
  {
   "cell_type": "code",
   "execution_count": 1,
   "id": "b12af714",
   "metadata": {},
   "outputs": [],
   "source": [
    "import scobra\n",
    "import csv\n",
    "import pickle\n",
    "from cobra import Reaction\n",
    "import numpy as np\n",
    "import pandas as pd"
   ]
  },
  {
   "cell_type": "markdown",
   "id": "a6ac9f17",
   "metadata": {},
   "source": [
    "##### Load the Model (excel version)"
   ]
  },
  {
   "cell_type": "code",
   "execution_count": 2,
   "id": "5df8d301",
   "metadata": {},
   "outputs": [
    {
     "name": "stdout",
     "output_type": "stream",
     "text": [
      "WATER_CP added to metabolite list in H2O_tx_BS_base in row 5038\n",
      "MG+2_CP added to metabolite list in Mg_tx_BS_base in row 6290\n",
      "AMMONIUM_CP added to metabolite list in NH4_tx_BS_base in row 6498\n",
      "NITRATE_CP added to metabolite list in NO3_tx_BS_base in row 6594\n",
      "Pi_CP added to metabolite list in PHOSPHATE_tx_BS_base in row 7082\n",
      "PROTON_CP added to metabolite list in PROTON_tx_BS_base in row 7258\n",
      "SULFATE_CP added to metabolite list in SO4_tx_BS_base in row 18470\n",
      "L-ALPHA-ALANINE_CP added to metabolite list in ALA_CP_BS_lwr_rev_transport in row 19490\n",
      "ARG_CP added to metabolite list in ARG_CP_BS_lwr_rev_transport in row 19498\n",
      "ASN_CP added to metabolite list in ASN_CP_BS_lwr_rev_transport in row 19506\n",
      "L-ASPARTATE_CP added to metabolite list in ASP_CP_BS_lwr_rev_transport in row 19514\n",
      "GLN_CP added to metabolite list in GLN_CP_BS_lwr_rev_transport in row 19522\n",
      "GLT_CP added to metabolite list in GLT_CP_BS_lwr_rev_transport in row 19530\n",
      "GLY_CP added to metabolite list in GLY_CP_BS_lwr_rev_transport in row 19538\n",
      "HIS_CP added to metabolite list in HIS_CP_BS_lwr_rev_transport in row 19546\n",
      "ILE_CP added to metabolite list in ILE_CP_BS_lwr_rev_transport in row 19554\n",
      "LEU_CP added to metabolite list in LEU_CP_BS_lwr_rev_transport in row 19562\n",
      "LYS_CP added to metabolite list in LYS_CP_BS_lwr_rev_transport in row 19570\n",
      "MET_CP added to metabolite list in MET_CP_BS_lwr_rev_transport in row 19578\n",
      "PHE_CP added to metabolite list in PHE_CP_BS_lwr_rev_transport in row 19586\n",
      "SER_CP added to metabolite list in SER_CP_BS_lwr_rev_transport in row 19594\n",
      "SUCROSE_CP added to metabolite list in Sucrose_CP_BS_lwr_rev_transport in row 19602\n",
      "THR_CP added to metabolite list in THR_CP_BS_lwr_rev_transport in row 19610\n",
      "TRP_CP added to metabolite list in TRP_CP_BS_lwr_rev_transport in row 19618\n",
      "TYR_CP added to metabolite list in TYR_CP_BS_lwr_rev_transport in row 19626\n",
      "VAL_CP added to metabolite list in VAL_CP_BS_lwr_rev_transport in row 19634\n",
      "AminoAcid_Biomass_BS_base added to metabolite list in AminoAcid_BS_base in row 19649\n",
      "CarbosLignin_Biomass_BS_base added to metabolite list in CarbosLignin_BS_base in row 19650\n",
      "Lipids_Biomass_BS_base added to metabolite list in Lipids_BS_base in row 19651\n",
      "NuclicAcid_Biomass_BS_base added to metabolite list in NuclicAcid_BS_base in row 19652\n",
      "AminoAcid_Biomass_MP_base added to metabolite list in AminoAcid_MP_base in row 19653\n",
      "CarbosLignin_Biomass_MP_base added to metabolite list in CarbosLignin_MP_base in row 19654\n",
      "Lipids_Biomass_MP_base added to metabolite list in Lipids_MP_base in row 19655\n",
      "NuclicAcid_Biomass_MP_base added to metabolite list in NuclicAcid_MP_base in row 19656\n",
      "AminoAcid_Biomass_BS_lwr added to metabolite list in AminoAcid_BS_lwr in row 19657\n",
      "CarbosLignin_Biomass_BS_lwr added to metabolite list in CarbosLignin_BS_lwr in row 19658\n",
      "Lipids_Biomass_BS_lwr added to metabolite list in Lipids_BS_lwr in row 19659\n",
      "NuclicAcid_Biomass_BS_lwr added to metabolite list in NuclicAcid_BS_lwr in row 19660\n",
      "AminoAcid_Biomass_MP_lwr added to metabolite list in AminoAcid_MP_lwr in row 19661\n",
      "CarbosLignin_Biomass_MP_lwr added to metabolite list in CarbosLignin_MP_lwr in row 19662\n",
      "Lipids_Biomass_MP_lwr added to metabolite list in Lipids_MP_lwr in row 19663\n",
      "NuclicAcid_Biomass_MP_lwr added to metabolite list in NuclicAcid_MP_lwr in row 19664\n",
      "AminoAcid_Biomass_BS_mid added to metabolite list in AminoAcid_BS_mid in row 19665\n",
      "CarbosLignin_Biomass_BS_mid added to metabolite list in CarbosLignin_BS_mid in row 19666\n",
      "Lipids_Biomass_BS_mid added to metabolite list in Lipids_BS_mid in row 19667\n",
      "NuclicAcid_Biomass_BS_mid added to metabolite list in NuclicAcid_BS_mid in row 19668\n",
      "AminoAcid_Biomass_MP_mid added to metabolite list in AminoAcid_MP_mid in row 19669\n",
      "CarbosLignin_Biomass_MP_mid added to metabolite list in CarbosLignin_MP_mid in row 19670\n",
      "Lipids_Biomass_MP_mid added to metabolite list in Lipids_MP_mid in row 19671\n",
      "NuclicAcid_Biomass_MP_mid added to metabolite list in NuclicAcid_MP_mid in row 19672\n",
      "AminoAcid_Biomass_BS_tip added to metabolite list in AminoAcid_BS_tip in row 19673\n",
      "CarbosLignin_Biomass_BS_tip added to metabolite list in CarbosLignin_BS_tip in row 19674\n",
      "Lipids_Biomass_BS_tip added to metabolite list in Lipids_BS_tip in row 19675\n",
      "NuclicAcid_Biomass_BS_tip added to metabolite list in NuclicAcid_BS_tip in row 19676\n",
      "AminoAcid_Biomass_MP_tip added to metabolite list in AminoAcid_MP_tip in row 19677\n",
      "CarbosLignin_Biomass_MP_tip added to metabolite list in CarbosLignin_MP_tip in row 19678\n",
      "Lipids_Biomass_MP_tip added to metabolite list in Lipids_MP_tip in row 19679\n",
      "NuclicAcid_Biomass_MP_tip added to metabolite list in NuclicAcid_MP_tip in row 19680\n"
     ]
    }
   ],
   "source": [
    "#m=scobra.Model(< /Path/ of / the / Model file.xls >)\n",
    "m=scobra.Model('setaria_c4x4_v12a.xls')"
   ]
  },
  {
   "cell_type": "markdown",
   "id": "c647f81b",
   "metadata": {},
   "source": [
    "#### Defining a few functions"
   ]
  },
  {
   "cell_type": "code",
   "execution_count": 3,
   "id": "eb2d5ee0",
   "metadata": {},
   "outputs": [],
   "source": [
    "def SplitRevRxn(model):\n",
    "    #modify.convert_to_irreversible(model)\n",
    "    reactions_to_add = []\n",
    "    for reaction in model.reactions:\n",
    "        if reaction.reversibility == True:\n",
    "            reverse_reaction = Reaction(reaction.id + \"_reverse\")\n",
    "            reverse_reaction.lower_bound = min(0, reaction.upper_bound) * -1\n",
    "            reverse_reaction.upper_bound = reaction.lower_bound * -1\n",
    "            reaction.lower_bound = 0\n",
    "            reaction.upper_bound = max(0, reaction.upper_bound)\n",
    "            #Make the directions aware of each other\n",
    "            reaction.reflection = reverse_reaction\n",
    "            reverse_reaction.reflection = reaction\n",
    "            reaction_dict = dict([(k, v*-1) for k, v in reaction._metabolites.items()])\n",
    "            reverse_reaction.add_metabolites(reaction_dict)\n",
    "            reverse_reaction._model = reaction._model\n",
    "            reverse_reaction._genes = reaction._genes\n",
    "            for gene in reaction._genes:\n",
    "                gene._reaction.add(reverse_reaction)\n",
    "            reverse_reaction._gene_reaction_rule = reaction._gene_reaction_rule\n",
    "            reactions_to_add.append(reverse_reaction)\n",
    "    model.add_reactions(reactions_to_add)\n",
    "    return model\n",
    "\n",
    "def MakeInvGEWtDict(m, DWt='Mean',\n",
    "                GEbase=\"GSMx2rxn_baseGE_N0_edited.txt\", \n",
    "                GElwr=\"GSMx2rxn_lwrGE_N0_edited.txt\", \n",
    "                GEmid=\"GSMx2rxn_midGE_N0_edited.txt\", \n",
    "                GEtip=\"GSMx2rxn_tipGE_N0_edited.txt\"):\n",
    "    '''m= Scobra Model File,\n",
    "    GEfiles= give GE files path/ name\n",
    "    DWt='Mean' or '10Mean' or 0.1Mean or 'Any Other Number'\n",
    "    '''\n",
    "    \n",
    "    M=m.copy()\n",
    "    #######SPLITTING REVERSIBLE REACTIONS\n",
    "    M_split=M.copy()\n",
    "    M_split=SplitRevRxn(M_split)\n",
    "    \n",
    "    ##making dict of GE values    \n",
    "    b1=open(GEbase,'r')\n",
    "    b2=[x.strip() for x in b1.readlines()]\n",
    "    b3=[y.split('\\t') for y in b2]\n",
    "    baseGE = {(b[0]+'_base'):(1/float(b[1])) for b in b3}\n",
    "    b1.close()\n",
    "    #print(baseGE)\n",
    "    \n",
    "    l1=open(GElwr,'r')\n",
    "    l2=[x.strip() for x in l1.readlines()]\n",
    "    l3=[y.split('\\t') for y in l2]\n",
    "    lwrGE = {(l[0]+'_lwr'):(1/float(l[1])) for l in l3}\n",
    "    l1.close()\n",
    "    #print(lwrGE)\n",
    "    \n",
    "    z1=open(GEmid,'r')\n",
    "    z2=[x.strip() for x in z1.readlines()]\n",
    "    z3=[y.split('\\t') for y in z2]\n",
    "    midGE = {(z[0]+'_mid'):(1/float(z[1])) for z in z3}\n",
    "    z1.close()\n",
    "    #print(midGE)\n",
    "    \n",
    "    t1=open(GEtip,'r')\n",
    "    t2=[x.strip() for x in t1.readlines()]\n",
    "    t3=[y.split('\\t') for y in t2]\n",
    "    tipGE = {(t[0]+'_tip'):(1/float(t[1])) for t in t3}\n",
    "    t1.close()\n",
    "    #print(tipGE)\n",
    "    \n",
    "    allGE={}\n",
    "    allGE.update(baseGE)\n",
    "    allGE.update(lwrGE)\n",
    "    allGE.update(midGE)\n",
    "    allGE.update(tipGE)\n",
    "    \n",
    "    #adding _reverse reactions in GE dict\n",
    "    revrxn=[r for r in M_split.Reactions() if \"_reverse\" in r]\n",
    "    revtemp=[x.replace(\"_reverse\",\"\") for x in revrxn]\n",
    "    revGE={v+\"_reverse\":allGE[v] for v in revtemp if v in allGE.keys()}\n",
    "    allGE.update(revGE)\n",
    "    \n",
    "    rest=[r for r in M_split.Reactions() if r not in allGE.keys()]\n",
    "    NOGE=[]\n",
    "    for rx in rest:\n",
    "        if '_CP_BS' in rx or '_MPBS' in rx:\n",
    "            NOGE.append(rx)\n",
    "        if '_tx' in rx or '_biomass' in rx:\n",
    "            NOGE.append(rx)\n",
    "        if 'Lipids' in rx or 'AminoAcid' in rx or 'NuclicAcid' in rx or 'CarbosLignin' in rx:\n",
    "            NOGE.append(rx)\n",
    "    \n",
    "    y=[1/Val for Val in allGE.values()]\n",
    "    if DWt == 'Mean':\n",
    "        YV=1/np.mean(y)\n",
    "        restGE={x:YV for x in rest if x not in NOGE}\n",
    "    elif DWt == '10Mean':\n",
    "        YV=10/np.mean(y)\n",
    "        restGE={x:YV for x in rest if x not in NOGE}\n",
    "    elif DWt == '0.1Mean':\n",
    "        YV=0.1/np.mean(y)\n",
    "        restGE={x:YV for x in rest if x not in NOGE}\n",
    "    elif type(DWt) == int or type(DWt) == float:\n",
    "        YV=DWt\n",
    "        restGE={x:YV for x in rest if x not in NOGE}\n",
    "    else:\n",
    "        YV=eval(DWt)\n",
    "        restGE={x:YV for x in rest if x not in NOGE}\n",
    "    allGE.update(restGE)\n",
    "    \n",
    "    return allGE\n",
    "\n",
    "def SetPhoton(m, ll):\n",
    "    '''m=scobra model (to set light upper limit)\n",
    "        ll= lifgt upper limit float value'''\n",
    "    ll=ll\n",
    "    ##Light_fix\n",
    "    P={i:(0,ll) for i in m.Reactions() if 'Photon_tx' in i}\n",
    "    m.SetConstraints(P)\n",
    "    #return m\n",
    "\n",
    "def SetOpenBiomass(m):\n",
    "    biomass = {x:(-100.0, -0.0) for x in m.Reactions() if '_biomass' in x}\n",
    "    #Set BIOMASS constraint\n",
    "    m.SetConstraints(biomass)\n",
    "    #return m\n",
    "\n",
    "def SetMaintenance(m):\n",
    "    mentainanceATP={i:(-8.5,-8.5) for i in m.Reactions() if 'ATPase_tx' in i}\n",
    "    mentainanceNADP={i:(-0.944,-0.944) for i in m.Reactions() if 'NADPHoxc_tx' in i or 'NADPHoxm_tx' in i or 'NADPHoxp_tx' in i }\n",
    "    NADPHoxx={i:(0,0) for i in m.Reactions() if 'NADPHoxx_tx' in i}\n",
    "    \n",
    "    #Set Mentainance constraint\n",
    "    m.SetConstraints(mentainanceATP)\n",
    "    m.SetConstraints(mentainanceNADP)\n",
    "    #BLOCK NADPHoxx_tx\n",
    "    m.SetConstraints(NADPHoxx)\n",
    "    #return m\n",
    "\n",
    "def SetEQUALPhoton(m):\n",
    "    P={i:1 for i in m.Reactions() if 'Photon_tx' in i}\n",
    "    m.SetReacsFixedRatio(P)\n",
    "    #return m\n",
    "    \n",
    "def SetMPBSRatio(m):\n",
    "    m.SetReacsFixedRatio({'Cell_biomass_MP_tip':1,'Cell_biomass_BS_tip':1})\n",
    "    m.SetReacsFixedRatio({'Cell_biomass_MP_mid':1,'Cell_biomass_BS_mid':1})\n",
    "    m.SetReacsFixedRatio({'Cell_biomass_MP_lwr':1,'Cell_biomass_BS_lwr':1})\n",
    "    m.SetReacsFixedRatio({'Cell_biomass_MP_base':1,'Cell_biomass_BS_base':1})\n",
    "\n",
    "def SetMPRubiscoRatio(m):\n",
    "    m.SetReacsFixedRatio({'RIBULOSE-BISPHOSPHATE-CARBOXYLASE-RXN_p_MP_base':3,'RXN-961_p_MP_base':1})\n",
    "    m.SetReacsFixedRatio({'RIBULOSE-BISPHOSPHATE-CARBOXYLASE-RXN_p_MP_lwr':3,'RXN-961_p_MP_lwr':1})\n",
    "    m.SetReacsFixedRatio({'RIBULOSE-BISPHOSPHATE-CARBOXYLASE-RXN_p_MP_mid':3,'RXN-961_p_MP_mid':1})\n",
    "    m.SetReacsFixedRatio({'RIBULOSE-BISPHOSPHATE-CARBOXYLASE-RXN_p_MP_tip':3,'RXN-961_p_MP_tip':1})\n",
    "\n",
    "def SetBIOMASSRatio(m, r_tmlb=[]):\n",
    "    '''m=scobra model to set biomas ratio,\n",
    "    r_tmlb = LIST of ratio values, tip , mid, lwr, base, IN THIS ORDER'''\n",
    "    D=r_tmlb\n",
    "    T,M,L,B=D[0],D[1],D[2],D[3]\n",
    "    m.SetReacsFixedRatio({'Cell_biomass_BS_tip':T,'Cell_biomass_BS_mid':M,'Cell_biomass_BS_lwr':L,'Cell_biomass_BS_base':B})\n",
    "\n",
    "\n",
    "def BlockExtraRxns(m, rxnlist=[]):\n",
    "    blklist={i:(0,0) for i in rxnlist}\n",
    "    m.SetConstraints(blklist)\n"
   ]
  },
  {
   "cell_type": "code",
   "execution_count": 4,
   "id": "446292bd",
   "metadata": {},
   "outputs": [],
   "source": [
    "m4=m.copy() #copying the model"
   ]
  },
  {
   "cell_type": "markdown",
   "id": "67d4f080",
   "metadata": {},
   "source": [
    "##### Set Specified constraints"
   ]
  },
  {
   "cell_type": "code",
   "execution_count": 5,
   "id": "c5be1849",
   "metadata": {},
   "outputs": [],
   "source": [
    "SetPhoton(m4, 200.0)\n",
    "SetOpenBiomass(m4)\n",
    "SetMaintenance(m4)\n",
    "rxns2blk=[x for x in m4.Reactions() if 'Plastoquinol_Oxidase_p' in x or 'NADPH_Dehydrogenase_p' in x or 'MALIC-NADP-RXN_c' in x or 'PEPCARBOXYKIN-RXN_c' in x]\n",
    "BlockExtraRxns(m4, rxns2blk)\n",
    "adlrxns2blk=[x for x in m4.Reactions() if 'CO2_tx_BS' in x or 'O2_tx_BS' in x or '4.1.1.32-RXN_c_BS' in x or '1.1.1.39-RXN_m_BS' in x]\n",
    "BlockExtraRxns(m4, adlrxns2blk)"
   ]
  },
  {
   "cell_type": "code",
   "execution_count": 6,
   "id": "fb0509ea",
   "metadata": {},
   "outputs": [],
   "source": [
    "M_split=m4.copy()\n",
    "M_split=SplitRevRxn(M_split)\n",
    "M_split1=M_split.copy()\n",
    "SetEQUALPhoton(M_split1)\n",
    "SetBIOMASSRatio(M_split1, r_tmlb=[1.283,1.2334,1.9372,5.488]) # Explanation of this Ratio is given in supplementary file\n",
    "SetMPBSRatio(M_split1)\n",
    "SetMPRubiscoRatio(M_split1)"
   ]
  },
  {
   "cell_type": "markdown",
   "id": "90945615",
   "metadata": {},
   "source": [
    "##### Set Model Objective\n",
    "$\\color{red}{\\text{(Biomass Maximization without integration of Gene-Expression values)}}$"
   ]
  },
  {
   "cell_type": "code",
   "execution_count": 7,
   "id": "03f7679b",
   "metadata": {},
   "outputs": [],
   "source": [
    "Rxnbiomass=[x for x in M_split1.Reactions() if '_biomass' in x]\n",
    "M_split1.SetObjective(Rxnbiomass)\n",
    "M_split1.SetObjDirec(direc='Min') #AS BIOMASS FLUX IS -ve, MINIMIZING THE FLUX is MAXIMIZING BIOMASS"
   ]
  },
  {
   "cell_type": "markdown",
   "id": "91f990a3",
   "metadata": {},
   "source": [
    "##### Solve the linear equations to fins optimal solution"
   ]
  },
  {
   "cell_type": "code",
   "execution_count": 8,
   "id": "9bc8c7e4",
   "metadata": {},
   "outputs": [
    {
     "name": "stdout",
     "output_type": "stream",
     "text": [
      "optimal\n"
     ]
    }
   ],
   "source": [
    "M_split1.MinFluxSolve()"
   ]
  },
  {
   "cell_type": "markdown",
   "id": "c7a5b263",
   "metadata": {},
   "source": [
    "##### Obtain the solution of the simulation"
   ]
  },
  {
   "cell_type": "code",
   "execution_count": 9,
   "id": "9a7aafdf",
   "metadata": {},
   "outputs": [],
   "source": [
    "SolwoGEBioMax=M_split1.GetSol()"
   ]
  },
  {
   "cell_type": "markdown",
   "id": "b0a1a3d6",
   "metadata": {},
   "source": [
    "##### Extract the solution in a csv file"
   ]
  },
  {
   "cell_type": "code",
   "execution_count": 10,
   "id": "84fbeadc",
   "metadata": {},
   "outputs": [],
   "source": [
    "with open('BioMax_woGE_Sol.csv', 'wb') as f:\n",
    "    for key in SolwoGEBioMax.keys():\n",
    "        f.write(\"%s, %s\\n\" %(key, SolwoGEBioMax[key]))"
   ]
  },
  {
   "cell_type": "markdown",
   "id": "a1a83c60",
   "metadata": {},
   "source": [
    "### Simulation with integration of Gene-expression values"
   ]
  },
  {
   "cell_type": "markdown",
   "id": "9c77c401",
   "metadata": {},
   "source": [
    "##### Set specific constraints\n",
    "(Biomass values taken from previous BioMax simulation)"
   ]
  },
  {
   "cell_type": "code",
   "execution_count": 11,
   "id": "31f4eda5",
   "metadata": {},
   "outputs": [],
   "source": [
    "M_split2=M_split.copy()\n",
    "    \n",
    "SetPhoton(M_split2, 1000.0)\n",
    "SetEQUALPhoton(M_split2)\n",
    "SetBIOMASSRatio(M_split2, r_tmlb=[1.283,1.2334,1.9372,5.488])\n",
    "SetMPBSRatio(M_split2)\n",
    "SetMPRubiscoRatio(M_split2)\n",
    "BMax=SolwoGEBioMax.Filter('Cell_biomass_BS_tip')\n",
    "Bvalue=BMax['Cell_biomass_BS_tip']\n",
    "BStip_biomass = {x:(Bvalue, Bvalue) for x in M_split2.Reactions() if 'Cell_biomass_BS_tip' in x}\n",
    "M_split2.SetConstraints(BStip_biomass)"
   ]
  },
  {
   "cell_type": "markdown",
   "id": "ed6522b0",
   "metadata": {},
   "source": [
    "##### Make Gene-Expression Weight dictionary"
   ]
  },
  {
   "cell_type": "code",
   "execution_count": 12,
   "id": "7337af67",
   "metadata": {},
   "outputs": [],
   "source": [
    "allGE=MakeInvGEWtDict(M_split2, DWt='Mean',\n",
    "                      GEbase=\"GSMx2rxn_baseGE_N0_edited.txt\",\n",
    "                      GElwr=\"GSMx2rxn_lwrGE_N0_edited.txt\",\n",
    "                      GEmid=\"GSMx2rxn_midGE_N0_edited.txt\",\n",
    "                      GEtip=\"GSMx2rxn_tipGE_N0_edited.txt\")\n",
    "\n",
    "# The weight values for each reactions were given in the supplementary file, \n",
    "# which can be directly loaded into a dictionary"
   ]
  },
  {
   "cell_type": "markdown",
   "id": "dd679efa",
   "metadata": {},
   "source": [
    "##### Set Model objective and solve\n",
    "$\\color{red}{\\text{(with integration of Gene-Expression values as weight)}}$\n",
    "\n",
    "Although there is no direct correlation between the expression of an\n",
    "enzymatic gene and the fluxes through corresponding reaction,\n",
    "\\underline{higher expression} of an enzyme will leads to \\underline{better\n",
    "availability} of the same, thus fecilitates the occurance of\n",
    "corresponding reaction. Whereas in the case of \\underline{lower expression},\n",
    "\\underline{availabilty} of the corresponding enzyme for the reaction is much\n",
    "more \\underline{restricted}. In case of multi-enzymatic reactions, if two or\n",
    "more genes are essential for a certain reaction (denoted by 'AND' rule\n",
    "in GPR in model), the enzyme with \\textbf{Lowest} expression\n",
    "(availability) will be the limiting factor. Whereas, if multiple enzymes\n",
    "can work in parallel to complete a reaction (denoted by 'OR' rule in GPR\n",
    "in model), the enzyme with \\textbf{Highest} expression (availability)\n",
    "will be most likely to perticipate. So we have used the \\textbf{inverse\n",
    "of the Gene-Expression values as the weight factor} for the objective\n",
    "function with \\underline{minimization} as the goal, thus reactions with\n",
    "\\underline{highly expressed} genes will have a \\underline{lower weight} and be\n",
    "\\underline{prefered} for the solution. In opposite, reactions with\n",
    "\\underline{low-expressing genes} will have a \\underline{cost (high weight)}\n",
    "associated with them (\\underline{unfavourable}) according to the expression\n",
    "level of the corresponding enzyme."
   ]
  },
  {
   "cell_type": "code",
   "execution_count": 13,
   "id": "da7a9581",
   "metadata": {},
   "outputs": [
    {
     "name": "stdout",
     "output_type": "stream",
     "text": [
      "optimal\n"
     ]
    }
   ],
   "source": [
    "M_split2.SetObjective(allGE)\n",
    "M_split2.SetObjDirec(direc='Min')\n",
    "    \n",
    "M_split2.MinFluxSolve()"
   ]
  },
  {
   "cell_type": "markdown",
   "id": "80ff02b2",
   "metadata": {},
   "source": [
    "##### Extract and print the solution in a file"
   ]
  },
  {
   "cell_type": "code",
   "execution_count": 14,
   "id": "2e6059b4",
   "metadata": {},
   "outputs": [],
   "source": [
    "SolwGE2=M_split2.GetSol()\n",
    "with open('MinFlx_wGE_Sol.csv', 'wb') as f2:\n",
    "    for key in SolwGE2.keys():\n",
    "        f2.write(\"%s, %s\\n\" %(key, SolwGE2[key]))"
   ]
  },
  {
   "cell_type": "markdown",
   "id": "b4928ca3",
   "metadata": {},
   "source": [
    "### Results can be analyzed from the csv files containing the reactions and the corresponding flux values"
   ]
  },
  {
   "cell_type": "code",
   "execution_count": null,
   "id": "7965dc80",
   "metadata": {},
   "outputs": [],
   "source": []
  }
 ],
 "metadata": {
  "kernelspec": {
   "display_name": "Python 2",
   "language": "python",
   "name": "python2"
  },
  "language_info": {
   "codemirror_mode": {
    "name": "ipython",
    "version": 2
   },
   "file_extension": ".py",
   "mimetype": "text/x-python",
   "name": "python",
   "nbconvert_exporter": "python",
   "pygments_lexer": "ipython2",
   "version": "2.7.18"
  }
 },
 "nbformat": 4,
 "nbformat_minor": 5
}
